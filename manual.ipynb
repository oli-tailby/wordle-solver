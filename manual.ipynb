{
 "cells": [
  {
   "cell_type": "markdown",
   "id": "7199c3f3-0a79-44f4-8a6e-8622b44dc4b2",
   "metadata": {},
   "source": [
    "# Setup and functions"
   ]
  },
  {
   "cell_type": "code",
   "execution_count": 31,
   "id": "58ba9d6f-fe82-4da3-b8a7-305225cce434",
   "metadata": {},
   "outputs": [],
   "source": [
    "## Import libraries\n",
    "import random\n",
    "import os\n",
    "import operator\n",
    "import string\n",
    "from itertools import permutations"
   ]
  },
  {
   "cell_type": "code",
   "execution_count": 32,
   "id": "92ac0bbe-fc9d-40f8-ac20-0a6c4b0b338b",
   "metadata": {},
   "outputs": [],
   "source": [
    "## Get list of all English 5-letter words\n",
    "words = open(os.getcwd()+'/wordle/scrabble_words.txt').read().split()\n",
    "wordslist = [x.upper() for x in words if len(x)==5]\n",
    "#solutions = open(os.getcwd()+'/wordle/solutions.txt').read().split()\n",
    "solutions = ['ARGOS', 'APPLE', 'RETRO']\n",
    "solutionslist = [x.upper() for x in solutions if len(x)==5]"
   ]
  },
  {
   "cell_type": "code",
   "execution_count": 33,
   "id": "1ce75b11-1622-4a21-8cbb-5dac09393f5a",
   "metadata": {},
   "outputs": [],
   "source": [
    "def getExactCharacters(guess, sol):\n",
    "    out=''\n",
    "    for x, y in zip(guess, sol):\n",
    "        if x == y:\n",
    "            out += 'G'\n",
    "            sol = sol.replace(x, '', 1)\n",
    "        else:\n",
    "            out += '-'\n",
    "    return out"
   ]
  },
  {
   "cell_type": "code",
   "execution_count": 34,
   "id": "87653bb2-dd3a-4cd0-b348-496b219982f1",
   "metadata": {},
   "outputs": [],
   "source": [
    "def getMatchingCharacters(guess, sol):\n",
    "    exact = getExactCharacters(guess, sol)\n",
    "    out=''\n",
    "    for x in range(len(guess)):\n",
    "        if exact[x]=='G':\n",
    "            out += 'G'\n",
    "        elif guess[x] in sol:\n",
    "            out += 'A'\n",
    "            sol = sol.replace(guess[x], '', 1)\n",
    "        else:\n",
    "            out += '-'\n",
    "    return out"
   ]
  },
  {
   "cell_type": "code",
   "execution_count": 35,
   "id": "daa44a2a-4513-4c76-984b-71417e64ff14",
   "metadata": {},
   "outputs": [],
   "source": [
    "# Pick a solution at random\n",
    "solution = random.choice(solutionslist)"
   ]
  },
  {
   "cell_type": "code",
   "execution_count": 36,
   "id": "b784afe2-a6a3-4050-a7cc-d561adae199d",
   "metadata": {},
   "outputs": [
    {
     "data": {
      "text/plain": [
       "'APPLE'"
      ]
     },
     "execution_count": 36,
     "metadata": {},
     "output_type": "execute_result"
    }
   ],
   "source": [
    "solution"
   ]
  },
  {
   "cell_type": "markdown",
   "id": "cb1534ae-91a7-463b-81d7-bdacdcddad87",
   "metadata": {},
   "source": [
    "# User-Input Game"
   ]
  },
  {
   "cell_type": "code",
   "execution_count": 37,
   "id": "1a5f787e-76dc-4d09-b0db-98172d0d35af",
   "metadata": {},
   "outputs": [
    {
     "name": "stdin",
     "output_type": "stream",
     "text": [
      "Guess: ARGOS\n"
     ]
    },
    {
     "name": "stdout",
     "output_type": "stream",
     "text": [
      "Result: G----\n",
      "\n"
     ]
    },
    {
     "name": "stdin",
     "output_type": "stream",
     "text": [
      "Guess: AILED\n"
     ]
    },
    {
     "name": "stdout",
     "output_type": "stream",
     "text": [
      "Result: G-AA-\n",
      "\n"
     ]
    },
    {
     "name": "stdin",
     "output_type": "stream",
     "text": [
      "Guess: APPLE\n"
     ]
    },
    {
     "name": "stdout",
     "output_type": "stream",
     "text": [
      "Result: GGGGG\n",
      "\n",
      "Completed in 3/6 attempts!\n"
     ]
    }
   ],
   "source": [
    "def getInput():\n",
    "    guess = input('Guess:')\n",
    "    if guess in wordslist:\n",
    "        return guess\n",
    "    else:\n",
    "        print('Invalid word')\n",
    "        guess = getInput()\n",
    "        return guess\n",
    "\n",
    "\n",
    "# Loop through attempts\n",
    "for i in range(1,7):\n",
    "    guess = getInput()\n",
    "    result = getMatchingCharacters(guess, solution)\n",
    "    print('Result: '+result)\n",
    "    print()\n",
    "    \n",
    "    if result=='GGGGG':\n",
    "        print('Completed in '+str(i)+'/6 attempts!')\n",
    "        break\n",
    "        \n",
    "    elif i==6:\n",
    "        print('Failed - the solution was: '+solution)\n",
    "    \n"
   ]
  },
  {
   "cell_type": "code",
   "execution_count": null,
   "id": "93ff5166-1b3c-4f48-86e8-8f6d662ad24d",
   "metadata": {},
   "outputs": [],
   "source": []
  }
 ],
 "metadata": {
  "kernelspec": {
   "display_name": "Python 3 (ipykernel)",
   "language": "python",
   "name": "python3"
  },
  "language_info": {
   "codemirror_mode": {
    "name": "ipython",
    "version": 3
   },
   "file_extension": ".py",
   "mimetype": "text/x-python",
   "name": "python",
   "nbconvert_exporter": "python",
   "pygments_lexer": "ipython3",
   "version": "3.9.10"
  }
 },
 "nbformat": 4,
 "nbformat_minor": 5
}
